{
 "cells": [
  {
   "cell_type": "code",
   "execution_count": 1,
   "metadata": {},
   "outputs": [
    {
     "name": "stderr",
     "output_type": "stream",
     "text": [
      "UserWarning: Specified provider 'CUDAExecutionProvider' is not in available provider names.Available providers: 'CPUExecutionProvider'\n",
      "UserWarning: Specified provider 'OpenVINOExecutionProvider' is not in available provider names.Available providers: 'CPUExecutionProvider'\n"
     ]
    },
    {
     "name": "stdout",
     "output_type": "stream",
     "text": [
      "IMAGE SIZE:  width=1920 height=1080\n",
      "PREDICTIONS LEN:  25\n",
      "PREDICTIONS FIRST:  x=1502.0 y=555.0 width=84.0 height=172.0 confidence=0.8134546279907227 class_name='person' class_confidence=None class_id=0 tracker_id=None detection_id='95782c57-b423-4dcd-91c2-fb003d6b2abe' parent_id=None\n"
     ]
    }
   ],
   "source": [
    "from inference import get_model\n",
    "\n",
    "model = get_model(model_id=\"yolov8n-640\")\n",
    "results = model.infer(\"https://media.roboflow.com/inference/people-walking.jpg\")\n",
    "\n",
    "print(\"IMAGE SIZE: \", results[0].image)\n",
    "print(\"PREDICTIONS LEN: \", len(results[0].predictions))\n",
    "print(\"PREDICTIONS FIRST: \", results[0].predictions[0])"
   ]
  },
  {
   "cell_type": "code",
   "execution_count": 1,
   "metadata": {},
   "outputs": [
    {
     "name": "stderr",
     "output_type": "stream",
     "text": [
      "UserWarning: Specified provider 'CUDAExecutionProvider' is not in available provider names.Available providers: 'CPUExecutionProvider'\n",
      "UserWarning: Specified provider 'OpenVINOExecutionProvider' is not in available provider names.Available providers: 'CPUExecutionProvider'\n"
     ]
    },
    {
     "ename": "",
     "evalue": "",
     "output_type": "error",
     "traceback": [
      "\u001b[1;31mThe Kernel crashed while executing code in the current cell or a previous cell. \n",
      "\u001b[1;31mPlease review the code in the cell(s) to identify a possible cause of the failure. \n",
      "\u001b[1;31mClick <a href='https://aka.ms/vscodeJupyterKernelCrash'>here</a> for more info. \n",
      "\u001b[1;31mView Jupyter <a href='command:jupyter.viewOutput'>log</a> for further details."
     ]
    }
   ],
   "source": [
    "from inference import InferencePipeline\n",
    "from inference.core.interfaces.stream.sinks import render_boxes\n",
    "\n",
    "pipeline = InferencePipeline.init(\n",
    "    model_id=\"yolov8n-640\",\n",
    "    video_reference=\"https://media.roboflow.com/inference/people-walking.mp4\",\n",
    "    on_prediction=render_boxes\n",
    ")\n",
    "\n",
    "pipeline.start()\n",
    "pipeline.join()"
   ]
  }
 ],
 "metadata": {
  "kernelspec": {
   "display_name": "supervision-_a2f-5wA-py3.10",
   "language": "python",
   "name": "python3"
  },
  "language_info": {
   "codemirror_mode": {
    "name": "ipython",
    "version": 3
   },
   "file_extension": ".py",
   "mimetype": "text/x-python",
   "name": "python",
   "nbconvert_exporter": "python",
   "pygments_lexer": "ipython3",
   "version": "3.10.0"
  }
 },
 "nbformat": 4,
 "nbformat_minor": 2
}

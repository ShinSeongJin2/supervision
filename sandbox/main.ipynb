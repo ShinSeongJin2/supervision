{
 "cells": [
  {
   "cell_type": "code",
   "execution_count": 2,
   "metadata": {},
   "outputs": [],
   "source": [
    "import cv2\n",
    "import supervision as sv\n",
    "from inference import get_model\n",
    "from PIL import Image"
   ]
  },
  {
   "cell_type": "code",
   "execution_count": 3,
   "metadata": {},
   "outputs": [],
   "source": [
    "def showNumpyImage(image):\n",
    "    rgb_image = cv2.cvtColor(image, cv2.COLOR_BGR2RGB)\n",
    "    pil_image = Image.fromarray(rgb_image)\n",
    "    pil_image.show()"
   ]
  },
  {
   "cell_type": "code",
   "execution_count": 7,
   "metadata": {},
   "outputs": [],
   "source": [
    "# 객체를 인식하고, 사각형 박스 형태로 인식된 객체에 대한 라벨을 붙이는 예시\n",
    "model = get_model(model_id=\"yolov10n-640\")\n",
    "image = cv2.imread(\"./rawDatas/people-walking-2.webp\")\n",
    "results = model.infer(image)[0]\n",
    "\n",
    "detections = sv.Detections.from_inference(results)\n",
    "annotated_image = sv.BoundingBoxAnnotator().annotate(\n",
    "    scene=image, detections=detections)\n",
    "\n",
    "labels = [\n",
    "    f\"{class_name} {confidence:.2f}\"\n",
    "    for class_name, confidence\n",
    "    in zip(detections['class_name'], detections.confidence)\n",
    "]\n",
    "annotated_image = sv.LabelAnnotator().annotate(\n",
    "    scene=annotated_image, detections=detections, labels=labels)\n",
    "\n",
    "showNumpyImage(annotated_image)"
   ]
  },
  {
   "cell_type": "code",
   "execution_count": 11,
   "metadata": {},
   "outputs": [],
   "source": [
    "# 객체를 인식하고, Segnantation 형태로 인식된 객체에 대한 라벨을 붙이는 예시\n",
    "model = get_model(model_id=\"yolov8n-seg-640\")\n",
    "image = cv2.imread(\"./rawDatas/people-walking-2.webp\")\n",
    "results = model.infer(image)[0]\n",
    "\n",
    "detections = sv.Detections.from_inference(results)\n",
    "annotated_image = sv.MaskAnnotator().annotate(\n",
    "    scene=image, detections=detections)\n",
    "\n",
    "annotated_image = sv.LabelAnnotator().annotate(\n",
    "    scene=annotated_image, detections=detections, labels=labels)\n",
    "\n",
    "showNumpyImage(annotated_image)"
   ]
  },
  {
   "cell_type": "code",
   "execution_count": 13,
   "metadata": {},
   "outputs": [
    {
     "name": "stderr",
     "output_type": "stream",
     "text": [
      "UserWarning: Specified provider 'CUDAExecutionProvider' is not in available provider names.Available providers: 'CPUExecutionProvider'\n",
      "UserWarning: Specified provider 'OpenVINOExecutionProvider' is not in available provider names.Available providers: 'CPUExecutionProvider'\n"
     ]
    }
   ],
   "source": [
    "# 비디오 객체 탐지 관련 정보를 CSV로 저장시키기\n",
    "model = get_model(model_id=\"yolov10n-640\")\n",
    "frames_generator = sv.get_video_frames_generator(\"./rawDatas/people-walking.mp4\")\n",
    "\n",
    "with sv.CSVSink(\"./outputs/detections.csv\") as sink:\n",
    "    for frame in frames_generator:\n",
    "        results = model.infer(frame)[0]\n",
    "        detections = sv.Detections.from_inference(results)\n",
    "        sink.append(detections, {})"
   ]
  }
 ],
 "metadata": {
  "kernelspec": {
   "display_name": "supervision-_a2f-5wA-py3.10",
   "language": "python",
   "name": "python3"
  },
  "language_info": {
   "codemirror_mode": {
    "name": "ipython",
    "version": 3
   },
   "file_extension": ".py",
   "mimetype": "text/x-python",
   "name": "python",
   "nbconvert_exporter": "python",
   "pygments_lexer": "ipython3",
   "version": "3.10.0"
  }
 },
 "nbformat": 4,
 "nbformat_minor": 2
}
